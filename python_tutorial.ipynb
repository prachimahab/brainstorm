{
 "cells": [
  {
   "cell_type": "markdown",
   "metadata": {},
   "source": [
    "<H1>Basic Intro to Python</H1>"
   ]
  },
  {
   "cell_type": "markdown",
   "metadata": {},
   "source": [
    "Prachi Mahableshwarkar\n",
    "\n",
    "contact: pmahable@gwmail.gwu.edu\n",
    "\n",
    "Python Cheat Sheets: https://drive.google.com/drive/folders/1ffagndwSixKBDft5_IGxTxkDYTiwBz1F"
   ]
  },
  {
   "cell_type": "markdown",
   "metadata": {},
   "source": [
    "## Statements "
   ]
  },
  {
   "cell_type": "markdown",
   "metadata": {},
   "source": [
    "* a single expression\n",
    "* an assignment\n",
    "* a function call\n",
    "* a function definition\n",
    "* a statement; statement"
   ]
  },
  {
   "cell_type": "markdown",
   "metadata": {},
   "source": [
    "## Expressions "
   ]
  },
  {
   "cell_type": "markdown",
   "metadata": {},
   "source": [
    "* Numbers\n",
    "  * integers\n",
    "  * floating-point\n",
    "  * complex numbers\n",
    "* strings\n",
    "* boolean values\n",
    "* lists and dicts"
   ]
  },
  {
   "cell_type": "markdown",
   "metadata": {},
   "source": [
    "## Numbers, Strings, Boolean Values"
   ]
  },
  {
   "cell_type": "code",
   "execution_count": 5,
   "metadata": {},
   "outputs": [],
   "source": [
    "x = 1.1\n",
    "y = 2"
   ]
  },
  {
   "cell_type": "code",
   "execution_count": 7,
   "metadata": {},
   "outputs": [
    {
     "data": {
      "text/plain": [
       "(float, int)"
      ]
     },
     "execution_count": 7,
     "metadata": {},
     "output_type": "execute_result"
    }
   ],
   "source": [
    "type(x), type(y)"
   ]
  },
  {
   "cell_type": "code",
   "execution_count": 8,
   "metadata": {},
   "outputs": [
    {
     "data": {
      "text/plain": [
       "3.1"
      ]
     },
     "execution_count": 8,
     "metadata": {},
     "output_type": "execute_result"
    }
   ],
   "source": [
    "x + y"
   ]
  },
  {
   "cell_type": "code",
   "execution_count": 12,
   "metadata": {},
   "outputs": [
    {
     "name": "stdout",
     "output_type": "stream",
     "text": [
      "False\n"
     ]
    }
   ],
   "source": [
    "if type(x) == int: \n",
    "    print(True)\n",
    "else: \n",
    "    print(False)"
   ]
  },
  {
   "cell_type": "code",
   "execution_count": 15,
   "metadata": {},
   "outputs": [
    {
     "data": {
      "text/plain": [
       "2"
      ]
     },
     "execution_count": 15,
     "metadata": {},
     "output_type": "execute_result"
    }
   ],
   "source": [
    "x = y\n",
    "x"
   ]
  },
  {
   "cell_type": "code",
   "execution_count": 9,
   "metadata": {},
   "outputs": [],
   "source": [
    "name = \"GWU\"\n",
    "lab = \"Brain and Navigation Lab\""
   ]
  },
  {
   "cell_type": "code",
   "execution_count": 10,
   "metadata": {},
   "outputs": [
    {
     "data": {
      "text/plain": [
       "'GWU Brain and Navigation Lab'"
      ]
     },
     "execution_count": 10,
     "metadata": {},
     "output_type": "execute_result"
    }
   ],
   "source": [
    "name + \" \" + lab "
   ]
  },
  {
   "cell_type": "code",
   "execution_count": 75,
   "metadata": {},
   "outputs": [
    {
     "name": "stdout",
     "output_type": "stream",
     "text": [
      "False\n"
     ]
    }
   ],
   "source": [
    "if \"Brain\" in lab:\n",
    "    print(True)\n",
    "else:\n",
    "    print(False)"
   ]
  },
  {
   "cell_type": "markdown",
   "metadata": {},
   "source": [
    "## Lists, Dictionaries, Tuples"
   ]
  },
  {
   "cell_type": "code",
   "execution_count": 16,
   "metadata": {},
   "outputs": [],
   "source": [
    "num = [1, 2, 3, 4, 5]"
   ]
  },
  {
   "cell_type": "code",
   "execution_count": 23,
   "metadata": {},
   "outputs": [
    {
     "data": {
      "text/plain": [
       "3"
      ]
     },
     "execution_count": 23,
     "metadata": {},
     "output_type": "execute_result"
    }
   ],
   "source": [
    "# lists\n",
    "\n",
    "classes = [\"chemistry\", 6275, 'bio']\n",
    "\n",
    "#NOTE: lists are mutable!\n",
    "\n",
    "len(classes)"
   ]
  },
  {
   "cell_type": "code",
   "execution_count": 19,
   "metadata": {},
   "outputs": [
    {
     "data": {
      "text/plain": [
       "'chemistry'"
      ]
     },
     "execution_count": 19,
     "metadata": {},
     "output_type": "execute_result"
    }
   ],
   "source": [
    "classes[0] #access elements by index"
   ]
  },
  {
   "cell_type": "code",
   "execution_count": 83,
   "metadata": {},
   "outputs": [
    {
     "data": {
      "text/plain": [
       "['chemistry', 6275]"
      ]
     },
     "execution_count": 83,
     "metadata": {},
     "output_type": "execute_result"
    }
   ],
   "source": [
    "classes[0:2] # second value of the range is NOT inclusive "
   ]
  },
  {
   "cell_type": "code",
   "execution_count": 21,
   "metadata": {},
   "outputs": [
    {
     "name": "stdout",
     "output_type": "stream",
     "text": [
      "3\n"
     ]
    }
   ],
   "source": [
    "print(len(classes))"
   ]
  },
  {
   "cell_type": "code",
   "execution_count": 25,
   "metadata": {},
   "outputs": [
    {
     "data": {
      "text/plain": [
       "6275"
      ]
     },
     "execution_count": 25,
     "metadata": {},
     "output_type": "execute_result"
    }
   ],
   "source": [
    "classes[-2]"
   ]
  },
  {
   "cell_type": "code",
   "execution_count": 30,
   "metadata": {},
   "outputs": [
    {
     "name": "stdout",
     "output_type": "stream",
     "text": [
      "6275\n"
     ]
    }
   ],
   "source": [
    "for gwu_class in classes:\n",
    "    if type(gwu_class) == int:\n",
    "        print(gwu_class)\n",
    "     "
   ]
  },
  {
   "cell_type": "code",
   "execution_count": 31,
   "metadata": {},
   "outputs": [
    {
     "data": {
      "text/plain": [
       "['chemistry', 6275, 'bio', 'english']"
      ]
     },
     "execution_count": 31,
     "metadata": {},
     "output_type": "execute_result"
    }
   ],
   "source": [
    "classes.append('english')\n",
    "classes"
   ]
  },
  {
   "cell_type": "code",
   "execution_count": 32,
   "metadata": {},
   "outputs": [
    {
     "data": {
      "text/plain": [
       "['chemistry', 6275, 'bio', 'english', 'neuroscience']"
      ]
     },
     "execution_count": 32,
     "metadata": {},
     "output_type": "execute_result"
    }
   ],
   "source": [
    "fall = [\"neuroscience\"] \n",
    "# you can concatenate lists \n",
    "classes = classes + fall\n",
    "\n",
    "classes"
   ]
  },
  {
   "cell_type": "code",
   "execution_count": 38,
   "metadata": {},
   "outputs": [
    {
     "data": {
      "text/plain": [
       "9"
      ]
     },
     "execution_count": 38,
     "metadata": {},
     "output_type": "execute_result"
    }
   ],
   "source": [
    "nested_list = [[1, 2, 3], \n",
    "               [4, 5, 6], \n",
    "               [7, 8, 9]]\n",
    "\n",
    "nested_list[-1][-1]"
   ]
  },
  {
   "cell_type": "code",
   "execution_count": 26,
   "metadata": {},
   "outputs": [],
   "source": [
    "# dictionary\n",
    "\n",
    "scores = {\"A\": 3, \"B\":7, \"C\": 3, \"D\":2}"
   ]
  },
  {
   "cell_type": "code",
   "execution_count": 101,
   "metadata": {},
   "outputs": [
    {
     "data": {
      "text/plain": [
       "3"
      ]
     },
     "execution_count": 101,
     "metadata": {},
     "output_type": "execute_result"
    }
   ],
   "source": [
    "scores[\"C\"] #access elements by key"
   ]
  },
  {
   "cell_type": "code",
   "execution_count": 103,
   "metadata": {},
   "outputs": [
    {
     "name": "stdout",
     "output_type": "stream",
     "text": [
      "A 3\n",
      "B 7\n",
      "C 3\n",
      "D 2\n"
     ]
    }
   ],
   "source": [
    "for key in scores:\n",
    "    value = scores[key]\n",
    "    print(key, value)"
   ]
  },
  {
   "cell_type": "code",
   "execution_count": 40,
   "metadata": {},
   "outputs": [],
   "source": [
    "# tuple\n",
    "\n",
    "# test = tuple()\n",
    "test = (4, \"test\", 9)\n",
    "\n",
    "\n",
    "#NOTE: tuples are immutable"
   ]
  },
  {
   "cell_type": "code",
   "execution_count": 41,
   "metadata": {},
   "outputs": [
    {
     "ename": "TypeError",
     "evalue": "'tuple' object does not support item assignment",
     "output_type": "error",
     "traceback": [
      "\u001b[0;31m---------------------------------------------------------------------------\u001b[0m",
      "\u001b[0;31mTypeError\u001b[0m                                 Traceback (most recent call last)",
      "\u001b[0;32m<ipython-input-41-aa574cacc4ac>\u001b[0m in \u001b[0;36m<module>\u001b[0;34m\u001b[0m\n\u001b[0;32m----> 1\u001b[0;31m \u001b[0mtest\u001b[0m\u001b[0;34m[\u001b[0m\u001b[0;36m3\u001b[0m\u001b[0;34m]\u001b[0m \u001b[0;34m=\u001b[0m \u001b[0;34m\"insert\"\u001b[0m\u001b[0;34m\u001b[0m\u001b[0;34m\u001b[0m\u001b[0m\n\u001b[0m",
      "\u001b[0;31mTypeError\u001b[0m: 'tuple' object does not support item assignment"
     ]
    }
   ],
   "source": [
    "test[3] = \"insert\""
   ]
  },
  {
   "cell_type": "code",
   "execution_count": 42,
   "metadata": {},
   "outputs": [
    {
     "data": {
      "text/plain": [
       "9"
      ]
     },
     "execution_count": 42,
     "metadata": {},
     "output_type": "execute_result"
    }
   ],
   "source": [
    "test[-1]"
   ]
  },
  {
   "cell_type": "code",
   "execution_count": null,
   "metadata": {},
   "outputs": [],
   "source": []
  },
  {
   "cell_type": "markdown",
   "metadata": {},
   "source": [
    "## Functions"
   ]
  },
  {
   "cell_type": "code",
   "execution_count": 48,
   "metadata": {},
   "outputs": [],
   "source": [
    "def average(values):\n",
    "    \"\"\"\n",
    "    Args:\n",
    "        values --> list of numbers \n",
    "    Returns:\n",
    "        average --> average of numbers in values \n",
    "    \"\"\"\n",
    "    _sum = 0\n",
    "    for number in values:\n",
    "        _sum = _sum + number \n",
    "#         print(_sum)\n",
    "        \n",
    "    total_values = len(values)\n",
    "    \n",
    "    average = _sum/total_values\n",
    "    \n",
    "    return average"
   ]
  },
  {
   "cell_type": "code",
   "execution_count": 49,
   "metadata": {},
   "outputs": [
    {
     "data": {
      "text/plain": [
       "3.0"
      ]
     },
     "execution_count": 49,
     "metadata": {},
     "output_type": "execute_result"
    }
   ],
   "source": [
    "test_values = [1, 2, 3, 4, 5]\n",
    "\n",
    "average(test_values)"
   ]
  },
  {
   "cell_type": "code",
   "execution_count": 50,
   "metadata": {},
   "outputs": [
    {
     "data": {
      "text/plain": [
       "3.0"
      ]
     },
     "execution_count": 50,
     "metadata": {},
     "output_type": "execute_result"
    }
   ],
   "source": [
    "import numpy as np\n",
    "#numpy is an open source numerical computing package \n",
    "\n",
    "np.average(test_values)"
   ]
  },
  {
   "cell_type": "markdown",
   "metadata": {},
   "source": [
    "## Basic Plotting"
   ]
  },
  {
   "cell_type": "markdown",
   "metadata": {},
   "source": [
    "Matplotlib is a comprehensive library for creating static, animated, and interactive visualizations in Python.\n"
   ]
  },
  {
   "cell_type": "code",
   "execution_count": 52,
   "metadata": {},
   "outputs": [
    {
     "name": "stdout",
     "output_type": "stream",
     "text": [
      "[-4.         -3.91919192 -3.83838384 -3.75757576 -3.67676768 -3.5959596\n",
      " -3.51515152 -3.43434343 -3.35353535 -3.27272727 -3.19191919 -3.11111111\n",
      " -3.03030303 -2.94949495 -2.86868687 -2.78787879 -2.70707071 -2.62626263\n",
      " -2.54545455 -2.46464646 -2.38383838 -2.3030303  -2.22222222 -2.14141414\n",
      " -2.06060606 -1.97979798 -1.8989899  -1.81818182 -1.73737374 -1.65656566\n",
      " -1.57575758 -1.49494949 -1.41414141 -1.33333333 -1.25252525 -1.17171717\n",
      " -1.09090909 -1.01010101 -0.92929293 -0.84848485 -0.76767677 -0.68686869\n",
      " -0.60606061 -0.52525253 -0.44444444 -0.36363636 -0.28282828 -0.2020202\n",
      " -0.12121212 -0.04040404  0.04040404  0.12121212  0.2020202   0.28282828\n",
      "  0.36363636  0.44444444  0.52525253  0.60606061  0.68686869  0.76767677\n",
      "  0.84848485  0.92929293  1.01010101  1.09090909  1.17171717  1.25252525\n",
      "  1.33333333  1.41414141  1.49494949  1.57575758  1.65656566  1.73737374\n",
      "  1.81818182  1.8989899   1.97979798  2.06060606  2.14141414  2.22222222\n",
      "  2.3030303   2.38383838  2.46464646  2.54545455  2.62626263  2.70707071\n",
      "  2.78787879  2.86868687  2.94949495  3.03030303  3.11111111  3.19191919\n",
      "  3.27272727  3.35353535  3.43434343  3.51515152  3.5959596   3.67676768\n",
      "  3.75757576  3.83838384  3.91919192  4.        ]\n"
     ]
    }
   ],
   "source": [
    "import matplotlib.pyplot as plt\n",
    "\n",
    "a = 1\n",
    "b = 1\n",
    "c = -6\n",
    "#To create an array x consisting of, for example, 100 equally spaced points between -4 and 4, use the linspace command\n",
    "x = np.linspace(-4, 4, 100)\n",
    "y = a * x ** 2 + b * x + c  # Compute y for all x values\n",
    "\n",
    "print(x)"
   ]
  },
  {
   "cell_type": "code",
   "execution_count": 114,
   "metadata": {},
   "outputs": [
    {
     "data": {
      "text/plain": [
       "[<matplotlib.lines.Line2D at 0x118324748>]"
      ]
     },
     "execution_count": 114,
     "metadata": {},
     "output_type": "execute_result"
    },
    {
     "data": {
      "image/png": "[encoded data removed]",
      "text/plain": [
       "<Figure size 432x288 with 1 Axes>"
      ]
     },
     "metadata": {
      "needs_background": "light"
     },
     "output_type": "display_data"
    }
   ],
   "source": [
    "plt.plot(x, y)"
   ]
  },
  {
   "cell_type": "code",
   "execution_count": 57,
   "metadata": {},
   "outputs": [
    {
     "data": {
      "image/png": "[encoded data removed]",
      "text/plain": [
       "<Figure size 432x288 with 1 Axes>"
      ]
     },
     "metadata": {
      "needs_background": "light"
     },
     "output_type": "display_data"
    }
   ],
   "source": [
    "x = [0, 1, 2, 3, 4]\n",
    "y = [0, 1, 2, 3, 4]\n",
    "\n",
    "plt.plot(x, y)\n",
    "plt.plot(x, y, 'o')\n",
    "\n",
    "plt.title('Linear Model')\n",
    "plt.xlabel('x points')\n",
    "plt.ylabel('y points')\n",
    "\n",
    "plt.show();"
   ]
  },
  {
   "cell_type": "markdown",
   "metadata": {},
   "source": [
    "## Pandas - Data Analysis\n",
    "\n",
    "\n",
    "Sample data: Verbal judgment - participants saw images with targets placed at variable depths and had to respond 'How far away is the object the target is placed on?\""
   ]
  },
  {
   "cell_type": "code",
   "execution_count": 58,
   "metadata": {},
   "outputs": [],
   "source": [
    "import pandas as pd\n",
    "import numpy as np"
   ]
  },
  {
   "cell_type": "code",
   "execution_count": 60,
   "metadata": {},
   "outputs": [
    {
     "data": {
      "text/html": [
       "<div>\n",
       "<style scoped>\n",
       "    .dataframe tbody tr th:only-of-type {\n",
       "        vertical-align: middle;\n",
       "    }\n",
       "\n",
       "    .dataframe tbody tr th {\n",
       "        vertical-align: top;\n",
       "    }\n",
       "\n",
       "    .dataframe thead th {\n",
       "        text-align: right;\n",
       "    }\n",
       "</style>\n",
       "<table border=\"1\" class=\"dataframe\">\n",
       "  <thead>\n",
       "    <tr style=\"text-align: right;\">\n",
       "      <th></th>\n",
       "      <th>subjID</th>\n",
       "      <th>experimentName</th>\n",
       "      <th>versionName</th>\n",
       "      <th>sequenceName</th>\n",
       "      <th>url</th>\n",
       "      <th>selected_row</th>\n",
       "      <th>windowWidth</th>\n",
       "      <th>windowHeight</th>\n",
       "      <th>screenWidth</th>\n",
       "      <th>screenHeight</th>\n",
       "      <th>...</th>\n",
       "      <th>actual_depth</th>\n",
       "      <th>depth_estimate</th>\n",
       "      <th>trial_RT</th>\n",
       "      <th>log_sceneDuration</th>\n",
       "      <th>unitSelection</th>\n",
       "      <th>seq_filepath</th>\n",
       "      <th>experimentTime</th>\n",
       "      <th>totalTime</th>\n",
       "      <th>age</th>\n",
       "      <th>gender</th>\n",
       "    </tr>\n",
       "  </thead>\n",
       "  <tbody>\n",
       "    <tr>\n",
       "      <th>0</th>\n",
       "      <td>X</td>\n",
       "      <td>DepthScenes</td>\n",
       "      <td>duration_manipulation_targetAtFixation</td>\n",
       "      <td>jsons/VE125_randls_6.json</td>\n",
       "      <td>http://54.235.29.9/FacialAge/BNav_EC2/DepthDur...</td>\n",
       "      <td>28</td>\n",
       "      <td>1366</td>\n",
       "      <td>625</td>\n",
       "      <td>1366</td>\n",
       "      <td>768</td>\n",
       "      <td>...</td>\n",
       "      <td>4.7495</td>\n",
       "      <td>4</td>\n",
       "      <td>3135</td>\n",
       "      <td>126</td>\n",
       "      <td>meters</td>\n",
       "      <td>jsons/VE125_randls_6.json</td>\n",
       "      <td>600437</td>\n",
       "      <td>740696</td>\n",
       "      <td>28</td>\n",
       "      <td>Woman</td>\n",
       "    </tr>\n",
       "    <tr>\n",
       "      <th>1</th>\n",
       "      <td>X</td>\n",
       "      <td>DepthScenes</td>\n",
       "      <td>duration_manipulation_targetAtFixation</td>\n",
       "      <td>jsons/VE125_randls_6.json</td>\n",
       "      <td>http://54.235.29.9/FacialAge/BNav_EC2/DepthDur...</td>\n",
       "      <td>28</td>\n",
       "      <td>1366</td>\n",
       "      <td>625</td>\n",
       "      <td>1366</td>\n",
       "      <td>768</td>\n",
       "      <td>...</td>\n",
       "      <td>3.7335</td>\n",
       "      <td>3</td>\n",
       "      <td>2765</td>\n",
       "      <td>175</td>\n",
       "      <td>meters</td>\n",
       "      <td>jsons/VE125_randls_6.json</td>\n",
       "      <td>600437</td>\n",
       "      <td>740696</td>\n",
       "      <td>28</td>\n",
       "      <td>Woman</td>\n",
       "    </tr>\n",
       "    <tr>\n",
       "      <th>2</th>\n",
       "      <td>X</td>\n",
       "      <td>DepthScenes</td>\n",
       "      <td>duration_manipulation_targetAtFixation</td>\n",
       "      <td>jsons/VE125_randls_6.json</td>\n",
       "      <td>http://54.235.29.9/FacialAge/BNav_EC2/DepthDur...</td>\n",
       "      <td>28</td>\n",
       "      <td>1366</td>\n",
       "      <td>625</td>\n",
       "      <td>1366</td>\n",
       "      <td>768</td>\n",
       "      <td>...</td>\n",
       "      <td>2.0295</td>\n",
       "      <td>5</td>\n",
       "      <td>3404</td>\n",
       "      <td>197</td>\n",
       "      <td>meters</td>\n",
       "      <td>jsons/VE125_randls_6.json</td>\n",
       "      <td>600437</td>\n",
       "      <td>740696</td>\n",
       "      <td>28</td>\n",
       "      <td>Woman</td>\n",
       "    </tr>\n",
       "    <tr>\n",
       "      <th>3</th>\n",
       "      <td>X</td>\n",
       "      <td>DepthScenes</td>\n",
       "      <td>duration_manipulation_targetAtFixation</td>\n",
       "      <td>jsons/VE125_randls_6.json</td>\n",
       "      <td>http://54.235.29.9/FacialAge/BNav_EC2/DepthDur...</td>\n",
       "      <td>28</td>\n",
       "      <td>1366</td>\n",
       "      <td>625</td>\n",
       "      <td>1366</td>\n",
       "      <td>768</td>\n",
       "      <td>...</td>\n",
       "      <td>3.2575</td>\n",
       "      <td>2</td>\n",
       "      <td>2537</td>\n",
       "      <td>122</td>\n",
       "      <td>meters</td>\n",
       "      <td>jsons/VE125_randls_6.json</td>\n",
       "      <td>600437</td>\n",
       "      <td>740696</td>\n",
       "      <td>28</td>\n",
       "      <td>Woman</td>\n",
       "    </tr>\n",
       "    <tr>\n",
       "      <th>4</th>\n",
       "      <td>X</td>\n",
       "      <td>DepthScenes</td>\n",
       "      <td>duration_manipulation_targetAtFixation</td>\n",
       "      <td>jsons/VE125_randls_6.json</td>\n",
       "      <td>http://54.235.29.9/FacialAge/BNav_EC2/DepthDur...</td>\n",
       "      <td>28</td>\n",
       "      <td>1366</td>\n",
       "      <td>625</td>\n",
       "      <td>1366</td>\n",
       "      <td>768</td>\n",
       "      <td>...</td>\n",
       "      <td>2.8815</td>\n",
       "      <td>2</td>\n",
       "      <td>2996</td>\n",
       "      <td>119</td>\n",
       "      <td>meters</td>\n",
       "      <td>jsons/VE125_randls_6.json</td>\n",
       "      <td>600437</td>\n",
       "      <td>740696</td>\n",
       "      <td>28</td>\n",
       "      <td>Woman</td>\n",
       "    </tr>\n",
       "    <tr>\n",
       "      <th>...</th>\n",
       "      <td>...</td>\n",
       "      <td>...</td>\n",
       "      <td>...</td>\n",
       "      <td>...</td>\n",
       "      <td>...</td>\n",
       "      <td>...</td>\n",
       "      <td>...</td>\n",
       "      <td>...</td>\n",
       "      <td>...</td>\n",
       "      <td>...</td>\n",
       "      <td>...</td>\n",
       "      <td>...</td>\n",
       "      <td>...</td>\n",
       "      <td>...</td>\n",
       "      <td>...</td>\n",
       "      <td>...</td>\n",
       "      <td>...</td>\n",
       "      <td>...</td>\n",
       "      <td>...</td>\n",
       "      <td>...</td>\n",
       "      <td>...</td>\n",
       "    </tr>\n",
       "    <tr>\n",
       "      <th>124</th>\n",
       "      <td>X</td>\n",
       "      <td>DepthScenes</td>\n",
       "      <td>duration_manipulation_targetAtFixation</td>\n",
       "      <td>jsons/VE125_randls_6.json</td>\n",
       "      <td>http://54.235.29.9/FacialAge/BNav_EC2/DepthDur...</td>\n",
       "      <td>28</td>\n",
       "      <td>1366</td>\n",
       "      <td>625</td>\n",
       "      <td>1366</td>\n",
       "      <td>768</td>\n",
       "      <td>...</td>\n",
       "      <td>4.1975</td>\n",
       "      <td>4</td>\n",
       "      <td>2140</td>\n",
       "      <td>124</td>\n",
       "      <td>meters</td>\n",
       "      <td>jsons/VE125_randls_6.json</td>\n",
       "      <td>600437</td>\n",
       "      <td>740696</td>\n",
       "      <td>28</td>\n",
       "      <td>Woman</td>\n",
       "    </tr>\n",
       "    <tr>\n",
       "      <th>125</th>\n",
       "      <td>X</td>\n",
       "      <td>DepthScenes</td>\n",
       "      <td>duration_manipulation_targetAtFixation</td>\n",
       "      <td>jsons/VE125_randls_6.json</td>\n",
       "      <td>http://54.235.29.9/FacialAge/BNav_EC2/DepthDur...</td>\n",
       "      <td>28</td>\n",
       "      <td>1366</td>\n",
       "      <td>625</td>\n",
       "      <td>1366</td>\n",
       "      <td>768</td>\n",
       "      <td>...</td>\n",
       "      <td>3.2155</td>\n",
       "      <td>2</td>\n",
       "      <td>2252</td>\n",
       "      <td>145</td>\n",
       "      <td>meters</td>\n",
       "      <td>jsons/VE125_randls_6.json</td>\n",
       "      <td>600437</td>\n",
       "      <td>740696</td>\n",
       "      <td>28</td>\n",
       "      <td>Woman</td>\n",
       "    </tr>\n",
       "    <tr>\n",
       "      <th>126</th>\n",
       "      <td>X</td>\n",
       "      <td>DepthScenes</td>\n",
       "      <td>duration_manipulation_targetAtFixation</td>\n",
       "      <td>jsons/VE125_randls_6.json</td>\n",
       "      <td>http://54.235.29.9/FacialAge/BNav_EC2/DepthDur...</td>\n",
       "      <td>28</td>\n",
       "      <td>1366</td>\n",
       "      <td>625</td>\n",
       "      <td>1366</td>\n",
       "      <td>768</td>\n",
       "      <td>...</td>\n",
       "      <td>2.0920</td>\n",
       "      <td>2</td>\n",
       "      <td>2080</td>\n",
       "      <td>121</td>\n",
       "      <td>meters</td>\n",
       "      <td>jsons/VE125_randls_6.json</td>\n",
       "      <td>600437</td>\n",
       "      <td>740696</td>\n",
       "      <td>28</td>\n",
       "      <td>Woman</td>\n",
       "    </tr>\n",
       "    <tr>\n",
       "      <th>127</th>\n",
       "      <td>X</td>\n",
       "      <td>DepthScenes</td>\n",
       "      <td>duration_manipulation_targetAtFixation</td>\n",
       "      <td>jsons/VE125_randls_6.json</td>\n",
       "      <td>http://54.235.29.9/FacialAge/BNav_EC2/DepthDur...</td>\n",
       "      <td>28</td>\n",
       "      <td>1366</td>\n",
       "      <td>625</td>\n",
       "      <td>1366</td>\n",
       "      <td>768</td>\n",
       "      <td>...</td>\n",
       "      <td>1.5510</td>\n",
       "      <td>2</td>\n",
       "      <td>2281</td>\n",
       "      <td>124</td>\n",
       "      <td>meters</td>\n",
       "      <td>jsons/VE125_randls_6.json</td>\n",
       "      <td>600437</td>\n",
       "      <td>740696</td>\n",
       "      <td>28</td>\n",
       "      <td>Woman</td>\n",
       "    </tr>\n",
       "    <tr>\n",
       "      <th>128</th>\n",
       "      <td>X</td>\n",
       "      <td>DepthScenes</td>\n",
       "      <td>duration_manipulation_targetAtFixation</td>\n",
       "      <td>jsons/VE125_randls_6.json</td>\n",
       "      <td>http://54.235.29.9/FacialAge/BNav_EC2/DepthDur...</td>\n",
       "      <td>28</td>\n",
       "      <td>1366</td>\n",
       "      <td>625</td>\n",
       "      <td>1366</td>\n",
       "      <td>768</td>\n",
       "      <td>...</td>\n",
       "      <td>4.4790</td>\n",
       "      <td>6</td>\n",
       "      <td>2159</td>\n",
       "      <td>150</td>\n",
       "      <td>meters</td>\n",
       "      <td>jsons/VE125_randls_6.json</td>\n",
       "      <td>600437</td>\n",
       "      <td>740696</td>\n",
       "      <td>28</td>\n",
       "      <td>Woman</td>\n",
       "    </tr>\n",
       "  </tbody>\n",
       "</table>\n",
       "<p>129 rows × 25 columns</p>\n",
       "</div>"
      ],
      "text/plain": [
       "    subjID experimentName                             versionName  \\\n",
       "0        X    DepthScenes  duration_manipulation_targetAtFixation   \n",
       "1        X    DepthScenes  duration_manipulation_targetAtFixation   \n",
       "2        X    DepthScenes  duration_manipulation_targetAtFixation   \n",
       "3        X    DepthScenes  duration_manipulation_targetAtFixation   \n",
       "4        X    DepthScenes  duration_manipulation_targetAtFixation   \n",
       "..     ...            ...                                     ...   \n",
       "124      X    DepthScenes  duration_manipulation_targetAtFixation   \n",
       "125      X    DepthScenes  duration_manipulation_targetAtFixation   \n",
       "126      X    DepthScenes  duration_manipulation_targetAtFixation   \n",
       "127      X    DepthScenes  duration_manipulation_targetAtFixation   \n",
       "128      X    DepthScenes  duration_manipulation_targetAtFixation   \n",
       "\n",
       "                  sequenceName  \\\n",
       "0    jsons/VE125_randls_6.json   \n",
       "1    jsons/VE125_randls_6.json   \n",
       "2    jsons/VE125_randls_6.json   \n",
       "3    jsons/VE125_randls_6.json   \n",
       "4    jsons/VE125_randls_6.json   \n",
       "..                         ...   \n",
       "124  jsons/VE125_randls_6.json   \n",
       "125  jsons/VE125_randls_6.json   \n",
       "126  jsons/VE125_randls_6.json   \n",
       "127  jsons/VE125_randls_6.json   \n",
       "128  jsons/VE125_randls_6.json   \n",
       "\n",
       "                                                   url  selected_row  \\\n",
       "0    http://54.235.29.9/FacialAge/BNav_EC2/DepthDur...            28   \n",
       "1    http://54.235.29.9/FacialAge/BNav_EC2/DepthDur...            28   \n",
       "2    http://54.235.29.9/FacialAge/BNav_EC2/DepthDur...            28   \n",
       "3    http://54.235.29.9/FacialAge/BNav_EC2/DepthDur...            28   \n",
       "4    http://54.235.29.9/FacialAge/BNav_EC2/DepthDur...            28   \n",
       "..                                                 ...           ...   \n",
       "124  http://54.235.29.9/FacialAge/BNav_EC2/DepthDur...            28   \n",
       "125  http://54.235.29.9/FacialAge/BNav_EC2/DepthDur...            28   \n",
       "126  http://54.235.29.9/FacialAge/BNav_EC2/DepthDur...            28   \n",
       "127  http://54.235.29.9/FacialAge/BNav_EC2/DepthDur...            28   \n",
       "128  http://54.235.29.9/FacialAge/BNav_EC2/DepthDur...            28   \n",
       "\n",
       "     windowWidth  windowHeight  screenWidth  screenHeight  ... actual_depth  \\\n",
       "0           1366           625         1366           768  ...       4.7495   \n",
       "1           1366           625         1366           768  ...       3.7335   \n",
       "2           1366           625         1366           768  ...       2.0295   \n",
       "3           1366           625         1366           768  ...       3.2575   \n",
       "4           1366           625         1366           768  ...       2.8815   \n",
       "..           ...           ...          ...           ...  ...          ...   \n",
       "124         1366           625         1366           768  ...       4.1975   \n",
       "125         1366           625         1366           768  ...       3.2155   \n",
       "126         1366           625         1366           768  ...       2.0920   \n",
       "127         1366           625         1366           768  ...       1.5510   \n",
       "128         1366           625         1366           768  ...       4.4790   \n",
       "\n",
       "    depth_estimate  trial_RT log_sceneDuration  unitSelection  \\\n",
       "0                4      3135               126         meters   \n",
       "1                3      2765               175         meters   \n",
       "2                5      3404               197         meters   \n",
       "3                2      2537               122         meters   \n",
       "4                2      2996               119         meters   \n",
       "..             ...       ...               ...            ...   \n",
       "124              4      2140               124         meters   \n",
       "125              2      2252               145         meters   \n",
       "126              2      2080               121         meters   \n",
       "127              2      2281               124         meters   \n",
       "128              6      2159               150         meters   \n",
       "\n",
       "                  seq_filepath  experimentTime  totalTime  age gender  \n",
       "0    jsons/VE125_randls_6.json          600437     740696   28  Woman  \n",
       "1    jsons/VE125_randls_6.json          600437     740696   28  Woman  \n",
       "2    jsons/VE125_randls_6.json          600437     740696   28  Woman  \n",
       "3    jsons/VE125_randls_6.json          600437     740696   28  Woman  \n",
       "4    jsons/VE125_randls_6.json          600437     740696   28  Woman  \n",
       "..                         ...             ...        ...  ...    ...  \n",
       "124  jsons/VE125_randls_6.json          600437     740696   28  Woman  \n",
       "125  jsons/VE125_randls_6.json          600437     740696   28  Woman  \n",
       "126  jsons/VE125_randls_6.json          600437     740696   28  Woman  \n",
       "127  jsons/VE125_randls_6.json          600437     740696   28  Woman  \n",
       "128  jsons/VE125_randls_6.json          600437     740696   28  Woman  \n",
       "\n",
       "[129 rows x 25 columns]"
      ]
     },
     "execution_count": 60,
     "metadata": {},
     "output_type": "execute_result"
    }
   ],
   "source": [
    "data = pd.read_csv('sample_data.csv')\n",
    "data"
   ]
  },
  {
   "cell_type": "code",
   "execution_count": 22,
   "metadata": {},
   "outputs": [
    {
     "data": {
      "text/plain": [
       "array(['X'], dtype=object)"
      ]
     },
     "execution_count": 22,
     "metadata": {},
     "output_type": "execute_result"
    }
   ],
   "source": [
    "data.subjID.unique()"
   ]
  },
  {
   "cell_type": "code",
   "execution_count": 63,
   "metadata": {},
   "outputs": [],
   "source": [
    "# list(data['depth_estimate'])"
   ]
  },
  {
   "cell_type": "code",
   "execution_count": 23,
   "metadata": {},
   "outputs": [
    {
     "data": {
      "text/plain": [
       "array([4, 3, 5, 2, 2, 3, 3, 4, 1, 2, 3, 2, 5, 1, 5, 5, 4, 2, 3, 3, 4, 3,\n",
       "       3, 3, 1, 2, 2, 1, 2, 2, 3, 2, 1, 1, 2, 4, 3, 3, 2, 4, 1, 2, 4, 4,\n",
       "       3, 4, 4, 4, 4, 3, 3, 2, 4, 3, 3, 3, 1, 5, 5, 3, 2, 4, 3, 4, 6, 1,\n",
       "       2, 2, 3, 4, 1, 3, 3, 3, 4, 4, 7, 4, 4, 2, 2, 8, 1, 2, 2, 2, 3, 2,\n",
       "       6, 2, 3, 3, 4, 7, 3, 5, 3, 4, 2, 2, 2, 2, 2, 2, 3, 2, 2, 5, 4, 2,\n",
       "       2, 2, 4, 2, 4, 4, 3, 5, 2, 2, 2, 2, 3, 2, 4, 2, 2, 2, 6])"
      ]
     },
     "execution_count": 23,
     "metadata": {},
     "output_type": "execute_result"
    }
   ],
   "source": [
    "subj_depth_estimates = np.array(data['depth_estimate'])\n",
    "subj_depth_estimates"
   ]
  },
  {
   "cell_type": "code",
   "execution_count": 25,
   "metadata": {},
   "outputs": [
    {
     "data": {
      "text/plain": [
       "(3.007751937984496, 1.3496834198485486)"
      ]
     },
     "execution_count": 25,
     "metadata": {},
     "output_type": "execute_result"
    }
   ],
   "source": [
    "np.mean(subj_depth_estimates), np.std(subj_depth_estimates)"
   ]
  },
  {
   "cell_type": "code",
   "execution_count": 33,
   "metadata": {},
   "outputs": [
    {
     "data": {
      "image/png": "[encoded data removed]",
      "text/plain": [
       "<Figure size 576x432 with 1 Axes>"
      ]
     },
     "metadata": {
      "needs_background": "light"
     },
     "output_type": "display_data"
    }
   ],
   "source": [
    "plt.figure(figsize=[8,6])\n",
    "plt.hist(subj_depth_estimates)\n",
    "\n",
    "plt.title('Distribution of depth estimates', fontsize=22)\n",
    "plt.xlabel('Depth Esimate (meters)', fontsize=16)\n",
    "plt.ylabel('Count', fontsize=16)\n",
    "\n",
    "plt.xticks(fontsize=15)\n",
    "plt.yticks(fontsize=15)\n",
    "plt.show();"
   ]
  },
  {
   "cell_type": "code",
   "execution_count": null,
   "metadata": {},
   "outputs": [],
   "source": []
  }
 ],
 "metadata": {
  "kernelspec": {
   "display_name": "Python 3",
   "language": "python",
   "name": "python3"
  },
  "language_info": {
   "codemirror_mode": {
    "name": "ipython",
    "version": 3
   },
   "file_extension": ".py",
   "mimetype": "text/x-python",
   "name": "python",
   "nbconvert_exporter": "python",
   "pygments_lexer": "ipython3",
   "version": "3.7.6"
  }
 },
 "nbformat": 4,
 "nbformat_minor": 4
}
